{
 "cells": [
  {
   "cell_type": "markdown",
   "metadata": {},
   "source": [
    "# 介绍简单的RAG"
   ]
  },
  {
   "cell_type": "markdown",
   "metadata": {},
   "source": [
    "RAG Retrieval-Augmented Generation (RAG)\n",
    "检索增强生成是一种结合信息检索与生成式大模型的AI架构.\n",
    "其核心价值在于解决传统大语言模型（LLM）的三大痛点：\n",
    "​知识固化​：预训练数据无法实时更新；\n",
    "​幻觉问题​：生成内容缺乏事实依据；\n",
    "​领域局限性​：难以直接处理专业领域知识（如医疗、金融等垂直场景）。\n",
    "一个简单的RAG设置，有以下几个步骤\n",
    "1. 数据接入Data Ingestion：加载并预处理文本数据。\n",
    "2. 分块Chunking：将数据分成更小的块以提高检索性能。\n",
    "3. 嵌入创建 Embedding Creation：使用嵌入模型将文本块转换为数字表示形式。\n",
    "4. 语义搜索：根据用户查询检索相关块。\n",
    "5. 响应生成：使用语言模型根据检索到的文本生成响应。\n"
   ]
  },
  {
   "cell_type": "markdown",
   "metadata": {},
   "source": [
    "# 设置环境\n",
    "导入相关的python库"
   ]
  },
  {
   "cell_type": "code",
   "execution_count": 2,
   "metadata": {},
   "outputs": [],
   "source": [
    "import fitz\n",
    "import os\n",
    "import numpy as np\n",
    "import json\n",
    "from openai import OpenAI"
   ]
  },
  {
   "cell_type": "markdown",
   "metadata": {},
   "source": [
    "# 从PDF文件中提取文本内容"
   ]
  },
  {
   "cell_type": "code",
   "execution_count": 3,
   "metadata": {},
   "outputs": [],
   "source": [
    "def extact_text_from_pdf(pdf_path):\n",
    "    # 打开PDF文件\n",
    "    doc = fitz.open(pdf_path)\n",
    "    \n",
    "    # 初始化文本内容\n",
    "    text_content = \"\"\n",
    "    \n",
    "    # 遍历所有页面并提取文本\n",
    "    for page in doc:\n",
    "        text_content += page.get_text()\n",
    "        \n",
    "    # 关闭PDF文件\n",
    "    doc.close()\n",
    "    \n",
    "    return text_content\n"
   ]
  },
  {
   "cell_type": "markdown",
   "metadata": {},
   "source": [
    "# 分块"
   ]
  },
  {
   "cell_type": "code",
   "execution_count": 4,
   "metadata": {},
   "outputs": [],
   "source": [
    "def chunk_text(text, n, overlap):\n",
    "    \"\"\"分块函数\n",
    "\n",
    "    Args:\n",
    "        text (str): 需要分块的文本\n",
    "        n (int): 每个块的大小\n",
    "        overlap (int): 块之间的重叠大小\n",
    "    \"\"\"\n",
    "    # 计算每个块的大小\n",
    "    chunk_size = n - overlap\n",
    "    \n",
    "    # 初始化一个列表来存储分块\n",
    "    chunks = []\n",
    "\n",
    "    # 遍历文本并进行分块\n",
    "    for i in range(0, len(text), chunk_size):\n",
    "        chunk = text[i:i+n]\n",
    "        chunks.append(chunk)\n",
    "    \n",
    "    return chunks\n"
   ]
  },
  {
   "cell_type": "markdown",
   "metadata": {},
   "source": [
    "# 设置API Client\n",
    "初始化客户端, 生成嵌入和回复"
   ]
  },
  {
   "cell_type": "markdown",
   "metadata": {},
   "source": []
  },
  {
   "cell_type": "code",
   "execution_count": 24,
   "metadata": {},
   "outputs": [
    {
     "name": "stdout",
     "output_type": "stream",
     "text": [
      "块数: 3\n",
      "第一个快：\n",
      "百炼系列平板电脑产品介绍 \n",
      "踏入数字世界的宽广领域，百炼平板电脑系列以其卓越的设计与顶尖技术，为您的工作与娱乐带来前所未有的体验。 \n",
      " \n",
      "百炼Tab Xplorer P1 —— 探索无界视野： 配备12.9 英寸Liquid Retina XDR 显示屏，分辨率达到2732 x 2048 像素，支持ProMotion 自适应刷新率技术（最高\n",
      "120Hz），无论是高清视频还是专业绘图，细腻与流畅并存。搭载1TB 超大存储与16GB RAM，配合M1 芯片的强大性能，轻松驾驭复杂应用与大型游戏。\n",
      "10000mAh 电池确保全天候续航，四扬声器环绕立体声，为您带来影院级视听享受。参考售价：8999 - 9999。 \n",
      "通义Vivid Tab 7 —— 智能办公新境界： 拥有10.5 英寸2560 x 1600 像素Super AMOLED 显示屏，色彩鲜活，细节丰富。8GB RAM 与256GB 存储空间，结合\n",
      "高效的处理器，确保多任务处理顺滑无阻。支持S Pen 手写笔，灵感随时记录。7500mAh 电池，配合智能电源管理，满足全天工作需求。内置多重生物识别技\n",
      "术，包括面部识别与指纹解锁，安\n"
     ]
    }
   ],
   "source": [
    "client = OpenAI(\n",
    "    base_url=\"https://api.siliconflow.cn/v1/\",\n",
    "    api_key=os.getenv(\"SILLICONFLOW_API_KEY\") # 从环境变量中获取API Key, 使用siliconflow的API\n",
    "    )\n",
    "\n",
    "pdf_path = \"data/sample.pdf\"\n",
    "# 提取文本\n",
    "text = extact_text_from_pdf(pdf_path)\n",
    "# 分块\n",
    "text_chunks = chunk_text(text, 512, 100)\n",
    "\n",
    "print(\"块数:\", len(text_chunks))\n",
    "print(\"第一个快：\")\n",
    "print(text_chunks[0])\n"
   ]
  },
  {
   "cell_type": "markdown",
   "metadata": {},
   "source": []
  },
  {
   "cell_type": "markdown",
   "metadata": {},
   "source": [
    "# 创建Embedding"
   ]
  },
  {
   "cell_type": "code",
   "execution_count": 25,
   "metadata": {},
   "outputs": [],
   "source": [
    "def create_embedding(text_chunks, model=\"BAAI/bge-large-zh-v1.5\"):\n",
    "    \"\"\"创建文本的Embedding\n",
    "\n",
    "    Args:\n",
    "        text (str): 需要创建Embedding的文本\n",
    "        model (str, optional): 使用的模型. Defaults to \"BAAI/bge-large-zh-v1.5\". 要注意token size是512\n",
    "    \"\"\"\n",
    "    response = client.embeddings.create(\n",
    "        model=model,\n",
    "        input=text_chunks\n",
    "    )\n",
    "    return response\n",
    "\n",
    "response = create_embedding(text_chunks=text_chunks)\n",
    "\n"
   ]
  },
  {
   "cell_type": "markdown",
   "metadata": {},
   "source": [
    "# 语义搜索"
   ]
  },
  {
   "cell_type": "code",
   "execution_count": 26,
   "metadata": {},
   "outputs": [],
   "source": [
    "def cos_similarity(query_embedding, text_embedding):\n",
    "    \"\"\"计算两个向量之间的余弦相似度\n",
    "\n",
    "    Args:\n",
    "        query_embedding (list): 查询向量\n",
    "        text_embedding (list): 文本向量\n",
    "    \"\"\"\n",
    "    # 计算两个向量之间的余弦相似度\n",
    "    return np.dot(query_embedding, text_embedding) / (np.linalg.norm(query_embedding) * np.linalg.norm(text_embedding))\n",
    "\n",
    "def semantic_search(query, text_chunks, embeddings, top_k=5):\n",
    "    \"\"\"语义搜索\n",
    "\n",
    "    Args:\n",
    "        query (str): 查询文本\n",
    "        text_chunks (list): 文本块列表\n",
    "        embeddings (list): 文本块的Embedding列表\n",
    "        top_k (int, optional): 返回的相似度最高的文本块数量. Defaults to 5.\n",
    "    \"\"\"\n",
    "    # 计算查询向量与所有文本向量的相似度\n",
    "    query_embedding = create_embedding(query).data[0].embedding # 计算查询向量\n",
    "    similarity_scores = []\n",
    "    for i, chunk_embedding in enumerate(embeddings):\n",
    "        # 计算查询向量与文本块向量的相似度\n",
    "        similarity_score = cos_similarity(np.array(query_embedding), \n",
    "                                          np.array(chunk_embedding.embedding))\n",
    "        # 将相似度得分和对应的文本块索引存储在列表中 i 是文本块的索引, similarity_score 是相似度得分\n",
    "        similarity_scores.append((i, similarity_score))\n",
    "\n",
    "    # 获取相似度最高的文本块 x[1] 是相似度得分, x[0] 是文本块的索引, 按照相似度得分从高到低排序\n",
    "    similarity_scores.sort(key=lambda x: x[1], reverse=True)\n",
    "    # 获取前 top_k 个相似度最高的文本块的索引\n",
    "    top_indices = [i for i, _ in similarity_scores[:top_k]]\n",
    "    # 返回相似度最高的文本块\n",
    "    return [text_chunks[i] for i in top_indices]\n",
    "\n",
    "\n"
   ]
  },
  {
   "cell_type": "markdown",
   "metadata": {},
   "source": [
    "# 在提取的文本块里查找"
   ]
  },
  {
   "cell_type": "code",
   "execution_count": 27,
   "metadata": {},
   "outputs": [
    {
     "name": "stdout",
     "output_type": "stream",
     "text": [
      "问题： 通义 Vivid Tab 7的电池容量是多少，有什么特点？\n",
      "上下文 第1个文本块 \n",
      " ========================== \n",
      "\n",
      "百炼系列平板电脑产品介绍 \n",
      "踏入数字世界的宽广领域，百炼平板电脑系列以其卓越的设计与顶尖技术，为您的工作与娱乐带来前所未有的体验。 \n",
      " \n",
      "百炼Tab Xplorer P1 —— 探索无界视野： 配备12.9 英寸Liquid Retina XDR 显示屏，分辨率达到2732 x 2048 像素，支持ProMotion 自适应刷新率技术（最高\n",
      "120Hz），无论是高清视频还是专业绘图，细腻与流畅并存。搭载1TB 超大存储与16GB RAM，配合M1 芯片的强大性能，轻松驾驭复杂应用与大型游戏。\n",
      "10000mAh 电池确保全天候续航，四扬声器环绕立体声，为您带来影院级视听享受。参考售价：8999 - 9999。 \n",
      "通义Vivid Tab 7 —— 智能办公新境界： 拥有10.5 英寸2560 x 1600 像素Super AMOLED 显示屏，色彩鲜活，细节丰富。8GB RAM 与256GB 存储空间，结合\n",
      "高效的处理器，确保多任务处理顺滑无阻。支持S Pen 手写笔，灵感随时记录。7500mAh 电池，配合智能电源管理，满足全天工作需求。内置多重生物识别技\n",
      "术，包括面部识别与指纹解锁，安\n",
      "上下文 第2个文本块 \n",
      " ========================== \n",
      "\n",
      "物识别技\n",
      "术，包括面部识别与指纹解锁，安全便捷。参考售价：4499 - 4899。 \n",
      "星尘Tab S9 Pro —— 创意与效率的完美融合： 采用12.4 英寸2800 x 1752 像素超窄边框设计，屏下摄像头技术，最大化显示区域。512GB 存储与12GB \n",
      "RAM，搭载高效能处理器，流畅运行各类创作软件。9000mAh 电池与65W 超级快充，快速回血，创意不中断。支持外接键盘与触控笔，变身移动工作站。参考\n",
      "售价：6999 - 7499。 \n",
      "百炼Ace Tab Ultra —— 游戏与娱乐的旗舰选择： 配备11 英寸2560 x 1600 像素屏幕，支持HDR10+，色彩表现力惊人。12GB RAM 与512GB 存储空间，专为\n",
      "高性能游戏优化。7800mAh 电池与液冷散热系统，确保长时间游戏稳定不发热。四扬声器杜比全景声音效，沉浸式游戏体验。参考售价：5999 - 6499。 \n",
      "百炼Zephyr Tab Z9 —— 轻盈便携的智慧伴侣： 采用轻薄8.4 英寸2560 x 1600 像素OLED 屏幕，携带方便。6GB RAM 与128GB 存储，满足日常娱乐与学习需\n",
      "求。60\n"
     ]
    }
   ],
   "source": [
    "with open('data/sample.json', 'r') as f:\n",
    "    data = json.load(f)\n",
    "\n",
    "random_index = np.random.randint(0, len(data))\n",
    "query=data[random_index]['问题']\n",
    "\n",
    "# 使用语义搜索\n",
    "top_chunks = semantic_search(query, text_chunks, response.data, top_k=2)\n",
    "\n",
    "print(\"问题：\", query)\n",
    "\n",
    "for i, chunk in enumerate(top_chunks):\n",
    "    print(f\"上下文 第{i+1}个文本块 \\n ========================== \\n\")\n",
    "    print(chunk)\n",
    "\n",
    "\n"
   ]
  },
  {
   "cell_type": "markdown",
   "metadata": {},
   "source": [
    "# 基于检索块生成一个回复"
   ]
  },
  {
   "cell_type": "code",
   "execution_count": 28,
   "metadata": {},
   "outputs": [
    {
     "name": "stdout",
     "output_type": "stream",
     "text": [
      "用户提示： \n",
      "问题：通义 Vivid Tab 7的电池容量是多少，有什么特点？\n",
      "上下文1：\n",
      "百炼系列平板电脑产品介绍 \n",
      "踏入数字世界的宽广领域，百炼平板电脑系列以其卓越的设计与顶尖技术，为您的工作与娱乐带来前所未有的体验。 \n",
      " \n",
      "百炼Tab Xplorer P1 —— 探索无界视野： 配备12.9 英寸Liquid Retina XDR 显示屏，分辨率达到2732 x 2048 像素，支持ProMotion 自适应刷新率技术（最高\n",
      "120Hz），无论是高清视频还是专业绘图，细腻与流畅并存。搭载1TB 超大存储与16GB RAM，配合M1 芯片的强大性能，轻松驾驭复杂应用与大型游戏。\n",
      "10000mAh 电池确保全天候续航，四扬声器环绕立体声，为您带来影院级视听享受。参考售价：8999 - 9999。 \n",
      "通义Vivid Tab 7 —— 智能办公新境界： 拥有10.5 英寸2560 x 1600 像素Super AMOLED 显示屏，色彩鲜活，细节丰富。8GB RAM 与256GB 存储空间，结合\n",
      "高效的处理器，确保多任务处理顺滑无阻。支持S Pen 手写笔，灵感随时记录。7500mAh 电池，配合智能电源管理，满足全天工作需求。内置多重生物识别技\n",
      "术，包括面部识别与指纹解锁，安\n",
      "\n",
      "\n",
      "问题：通义 Vivid Tab 7的电池容量是多少，有什么特点？\n",
      "上下文2：\n",
      "物识别技\n",
      "术，包括面部识别与指纹解锁，安全便捷。参考售价：4499 - 4899。 \n",
      "星尘Tab S9 Pro —— 创意与效率的完美融合： 采用12.4 英寸2800 x 1752 像素超窄边框设计，屏下摄像头技术，最大化显示区域。512GB 存储与12GB \n",
      "RAM，搭载高效能处理器，流畅运行各类创作软件。9000mAh 电池与65W 超级快充，快速回血，创意不中断。支持外接键盘与触控笔，变身移动工作站。参考\n",
      "售价：6999 - 7499。 \n",
      "百炼Ace Tab Ultra —— 游戏与娱乐的旗舰选择： 配备11 英寸2560 x 1600 像素屏幕，支持HDR10+，色彩表现力惊人。12GB RAM 与512GB 存储空间，专为\n",
      "高性能游戏优化。7800mAh 电池与液冷散热系统，确保长时间游戏稳定不发热。四扬声器杜比全景声音效，沉浸式游戏体验。参考售价：5999 - 6499。 \n",
      "百炼Zephyr Tab Z9 —— 轻盈便携的智慧伴侣： 采用轻薄8.4 英寸2560 x 1600 像素OLED 屏幕，携带方便。6GB RAM 与128GB 存储，满足日常娱乐与学习需\n",
      "求。60\n",
      "\n",
      "  问题：通义 Vivid Tab 7的电池容量是多少，有什么特点？\n",
      "----------------------------------------------------------------------------------------------------\n",
      "回复： 通义Vivid Tab 7的电池容量是7500mAh。其主要特点包括：\n",
      "\n",
      "- 拥有10.5英寸2560 x 1600像素的Super AMOLED显示屏，色彩鲜活，细节丰富。\n",
      "- 配备8GB RAM与256GB存储空间，结合高效的处理器，确保多任务处理流畅无阻。\n",
      "- 支持S Pen手写笔，为用户带来方便的笔记和记录方式。\n",
      "- 7500mAh的电池，配合智能电源管理，能够满足全天的工作需求。\n",
      "- 内置了多重生物识别技术，如面部识别与指纹解锁，增加了安全性并提供了便捷的解锁方式。\n"
     ]
    }
   ],
   "source": [
    "system_prompt = \"\"\"\n",
    "你是一个专业的AI助手，基于上下文严格回答用户的问题。如果上下文没有相关信息，请直接回答“没有找到相关信息”。\n",
    "\"\"\"\n",
    "def generate_response(system_prompt, user_prompt, model=\"Qwen/Qwen2-7B-Instruct\"):\n",
    "    response = client.chat.completions.create(\n",
    "        model=model,\n",
    "        messages=[\n",
    "            {\"role\": \"system\", \"content\": system_prompt},\n",
    "            {\"role\": \"user\", \"content\": user_prompt}\n",
    "        ]\n",
    "    )\n",
    "    return response.choices[0].message.content\n",
    "# 构建用户提示\n",
    "user_prompt = \"\\n\".join(\n",
    "    [f\"\"\"\n",
    "问题：{query}\n",
    "上下文{i+1}：\n",
    "{top_chunk}\n",
    "\"\"\" for i, top_chunk in enumerate(top_chunks)])\n",
    "# 添加问题\n",
    "user_prompt = f\"\"\"{user_prompt}\\n  问题：{query}\"\"\"\n",
    "print(\"用户提示：\", user_prompt)\n",
    "response = generate_response(system_prompt, user_prompt)\n",
    "print(\"-\"*100)\n",
    "print(\"回复：\", response)\n"
   ]
  },
  {
   "cell_type": "markdown",
   "metadata": {},
   "source": [
    "# 评估AI的回答"
   ]
  },
  {
   "cell_type": "code",
   "execution_count": 29,
   "metadata": {},
   "outputs": [
    {
     "name": "stdout",
     "output_type": "stream",
     "text": [
      "----------------------------------------------------------------------------------------------------\n",
      "评估： 回答正确，相似度为1.0，即完全一致。\n"
     ]
    }
   ],
   "source": [
    "evaluate_system_prompt = \"\"\"\n",
    "你是一个专业的AI助手，基于上下文严格回答用户的问题。如果AI的回答与真正的回答不一致，\n",
    "请直接回答“回答错误”,否则回答“回答正确”,并给出AI的回答与真正的回答的相似度。\n",
    "\"\"\"\n",
    "evaluate_user_prompt = f\"\"\"\n",
    "问题：{query}\n",
    "上下文：\n",
    "AI的回答：{response}\n",
    "真正的回答：{data[random_index]['理想回答']}\\n {evaluate_system_prompt}\n",
    "\"\"\"\n",
    "evaluate_response = generate_response(evaluate_system_prompt, evaluate_user_prompt)\n",
    "print(\"-\"*100)\n",
    "print(\"评估：\", evaluate_response)\n",
    "\n",
    "\n"
   ]
  }
 ],
 "metadata": {
  "kernelspec": {
   "display_name": "Python 3 (ipykernel)",
   "language": "python",
   "name": "python3"
  },
  "language_info": {
   "codemirror_mode": {
    "name": "ipython",
    "version": 3
   },
   "file_extension": ".py",
   "mimetype": "text/x-python",
   "name": "python",
   "nbconvert_exporter": "python",
   "pygments_lexer": "ipython3",
   "version": "3.11.11"
  }
 },
 "nbformat": 4,
 "nbformat_minor": 2
}
