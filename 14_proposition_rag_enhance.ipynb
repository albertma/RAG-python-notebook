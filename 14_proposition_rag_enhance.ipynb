{
 "cells": [
  {
   "cell_type": "markdown",
   "id": "f47e761f",
   "metadata": {},
   "source": [
    "## 用于增强 RAG 的命题分块\n",
    "\n",
    "在此笔记本中，我实现了命题分块\n",
    "\n",
    "一种将文档分解为原子事实陈述以便更准确检索的高级技术。与简单地按字符数划分文本的传统分块不同，命题分块保留了单个事实的语义完整性。\n",
    "\n",
    "### 命题分块通过以下方式提供更精确的检索：\n",
    "\n",
    "1. 将内容分解为原子的、自包含的事实\n",
    "2. 创建更小、更精细的单元以供检索\n",
    "3. 在查询和相关内容之间实现更精确的匹配\n",
    "4. 过滤掉低质量或不完整的命题\n",
    "\n",
    "让我们在不依赖 LangChain 或 FAISS 的情况下构建一个完整的实现。"
   ]
  },
  {
   "cell_type": "code",
   "execution_count": 43,
   "id": "dd47bddd",
   "metadata": {},
   "outputs": [],
   "source": [
    "import os\n",
    "import numpy as np\n",
    "import json\n",
    "import fitz\n",
    "from openai import OpenAI\n",
    "import re"
   ]
  },
  {
   "cell_type": "code",
   "execution_count": 44,
   "id": "7c7bd1e5",
   "metadata": {},
   "outputs": [],
   "source": [
    "def extract_text_from_pdf(pdf_path):\n",
    "    \"\"\"\n",
    "    Extracts text from a PDF file and prints the first `num_chars` characters.\n",
    "\n",
    "    Args:\n",
    "    pdf_path (str): Path to the PDF file.\n",
    "\n",
    "    Returns:\n",
    "    str: Extracted text from the PDF.\n",
    "    \"\"\"\n",
    "    # Open the PDF file\n",
    "    mypdf = fitz.open(pdf_path)\n",
    "    all_text = \"\"  # Initialize an empty string to store the extracted text\n",
    "\n",
    "    # Iterate through each page in the PDF\n",
    "    for page_num in range(mypdf.page_count):\n",
    "        page = mypdf[page_num]  # Get the page\n",
    "        text = page.get_text(\"text\")  # Extract text from the page\n",
    "        all_text += text  # Append the extracted text to the all_text string\n",
    "\n",
    "    return all_text  # Return the extracted text"
   ]
  }
 ],
 "metadata": {
  "kernelspec": {
   "display_name": "Python 3 (ipykernel)",
   "language": "python",
   "name": "python3"
  },
  "language_info": {
   "codemirror_mode": {
    "name": "ipython",
    "version": 3
   },
   "file_extension": ".py",
   "mimetype": "text/x-python",
   "name": "python",
   "nbconvert_exporter": "python",
   "pygments_lexer": "ipython3",
   "version": "3.11.11"
  }
 },
 "nbformat": 4,
 "nbformat_minor": 5
}
