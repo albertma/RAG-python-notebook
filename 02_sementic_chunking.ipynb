{
 "cells": [
  {
   "cell_type": "markdown",
   "metadata": {},
   "source": [
    "# 语义分块\n",
    "文本分块是检索增强生成 （RAG） 中的一个重要步骤，其中大型文本正文被划分为有意义的段以提高检索准确性。与固定长度分块不同，语义分块根据句子之间的内容相似性来拆分文本。"
   ]
  },
  {
   "cell_type": "markdown",
   "metadata": {},
   "source": [
    "### 断点方法：\n",
    "- 百分位数：查找所有相似性差异的第 X 个百分位数，并拆分下降大于此值的块。\n",
    "- 标准差：当相似性低于平均值 X 个标准差以上时，进行拆分。\n",
    "- 四分位距 （IQR）：使用四分位距 （Q3 - Q1） 来确定分割点。\n",
    "\n",
    "此笔记本 使用 percentile 方法 实现语义分块，并评估其在示例文本上的性能。"
   ]
  },
  {
   "cell_type": "code",
   "execution_count": 2,
   "metadata": {},
   "outputs": [],
   "source": [
    "#导入模块\n",
    "import fitz\n",
    "import os\n",
    "import numpy as np\n",
    "import json\n",
    "from openai import OpenAI"
   ]
  },
  {
   "cell_type": "markdown",
   "metadata": {},
   "source": [
    "# 提取文本内容\n",
    "为了实现RAG，首先需要准备文本内容"
   ]
  },
  {
   "cell_type": "code",
   "execution_count": 3,
   "metadata": {},
   "outputs": [
    {
     "name": "stdout",
     "output_type": "stream",
     "text": [
      "百炼系列平板电脑产品介绍 \n",
      "踏入数字世界的宽广领域，百炼平板电脑系列以其卓越的设计与顶尖技术，为您的工作与娱乐带来前所未有的体验。 \n",
      " \n",
      "百炼Tab Xplorer P1 —— 探索无界视野： 配备12.9 英寸Liquid Retina XDR 显示屏，分辨率达到2732 x 2048 像素，支持ProMotion 自适应刷新率技术（最高\n",
      "120Hz），无论是高清视频还是专业绘图，细腻与流畅并存。搭载1TB 超大存储与16GB RAM，配合M1 芯片的强大性能，轻松驾驭复杂应用与大型游戏。\n",
      "10000mAh 电池确保全天候续航，四扬声器环绕立体声，为您带来影院级视听享受。参考售价：8999 - 9999。 \n",
      "通义Vivid Tab 7 —— 智能办公新境界： 拥有10.5 英寸2560 x 1600 像素Super AMOLED 显示屏，色彩鲜活，细节丰富。8GB RAM 与256GB 存储空间，结合\n",
      "高效的处理器，确保多任务处理顺滑无阻。支持S Pen 手写笔，灵感随时记录。7500mAh 电池，配合智能电源管理，满足全天工作需求。内置多重生物识别技\n",
      "术，包括面部识别与指纹解锁，安全便捷。参考售价：4499 - 4899。 \n",
      "星尘Tab S9 Pro —— 创意与效率的完美融合： 采用12.4 英寸2800 x 1752 像素超窄边框设计，屏下摄像头技术，最大化显示区域。512GB 存储与12GB \n",
      "RAM，搭载高效能处理器，流畅运行各类创作软件。9000mAh 电池与65W 超级快充，快速回血，创意不中断。支持外接键盘与触控笔，变身移动工作站。参考\n",
      "售价：6999 - 7499。 \n",
      "百炼Ace Tab Ultra —— 游戏与娱乐的旗舰选择： 配备11 英寸2560 x 1600 像素屏幕，支持HDR10+，色彩表现力惊人。12GB RAM 与512GB 存储空间，专为\n",
      "高性能游戏优化。7800mAh 电池与液冷散热系统，确保长时间游戏稳定不发热。四扬声器杜比全景声音效，沉浸式游戏体验。参考售价：5999 - 6499。 \n",
      "百炼Zephyr Tab Z9 —— 轻盈便携的智慧伴侣： 采用轻薄8.4 英寸2560 x 1600 像素OLED 屏幕，携带方便。6GB RAM 与128GB 存储，满足日常娱乐与学习需\n",
      "求。6000mAh 电池提供持久续航，支持快速充电。前后双摄，视频会议与在线学习清晰流畅。参考售价：3499 - 3799。 \n",
      " \n",
      "每一款百炼平板电脑都是对极致体验的追求，旨在成为您探索数字世界的理想伙伴。选择百炼，开启您的智能生活新篇章。\n"
     ]
    }
   ],
   "source": [
    "#提取文本内容\n",
    "def extract_text_from_pdf(pdf_path):\n",
    "    \"\"\"从PDF文件中提取文本内容\"\"\"\n",
    "    doc = fitz.open(pdf_path)\n",
    "    text = \"\"\n",
    "    for page in doc:\n",
    "        text += page.get_text()\n",
    "    return text.strip()\n",
    "\n",
    "pdf_path = \"data/sample.pdf\"\n",
    "extracted_text = extract_text_from_pdf(pdf_path)\n",
    "print(extracted_text)\n"
   ]
  },
  {
   "cell_type": "markdown",
   "metadata": {},
   "source": [
    "# 设置OpenAPI Client"
   ]
  },
  {
   "cell_type": "code",
   "execution_count": 4,
   "metadata": {},
   "outputs": [],
   "source": [
    "client = OpenAI(\n",
    "    base_url=\"https://api.siliconflow.cn/v1/\", \n",
    "    api_key=os.getenv(\"SILLICONFLOW_API_KEY\")\n",
    "    )"
   ]
  },
  {
   "cell_type": "markdown",
   "metadata": {},
   "source": [
    "# 创建语句型的Embedding"
   ]
  },
  {
   "cell_type": "code",
   "execution_count": 16,
   "metadata": {},
   "outputs": [
    {
     "name": "stdout",
     "output_type": "stream",
     "text": [
      "句子数量: 29\n",
      "句子嵌入的数量：28\n"
     ]
    }
   ],
   "source": [
    "def get_embedding(text, model=\"BAAI/bge-large-zh-v1.5\"):\n",
    "    \"\"\"创建语句型的Embedding\n",
    "\n",
    "    Args:\n",
    "        text (_type_): _description_\n",
    "        model (str, optional): _description_. Defaults to \"BAAI/bge-large-zh-v1.5\".\n",
    "    \"\"\"\n",
    "    response = client.embeddings.create(\n",
    "        model=model, \n",
    "        input=text)\n",
    "    return np.array(response.data[0].embedding)\n",
    "#这里最重要，需要将文本按句号分割成句子\n",
    "sentences = extracted_text.split(\"。\") # 将文本按句号分割成句子\n",
    "print(f\"句子数量: {len(sentences)}\")\n",
    "embeddings = []\n",
    "for sentence in sentences:\n",
    "    if len(sentence) > 0:\n",
    "        # print(f\"句子：{sentence}\")\n",
    "        embedding = get_embedding(sentence)\n",
    "        embeddings.append(embedding)\n",
    "\n",
    "print(f\"句子嵌入的数量：{len(embeddings)}\")"
   ]
  },
  {
   "cell_type": "code",
   "execution_count": 17,
   "metadata": {},
   "outputs": [],
   "source": [
    "def cosine_similarity(vec1, vec2):\n",
    "    \"\"\"\n",
    "    Computes cosine similarity between two vectors.\n",
    "\n",
    "    Args:\n",
    "    vec1 (np.ndarray): First vector.\n",
    "    vec2 (np.ndarray): Second vector.\n",
    "\n",
    "    Returns:\n",
    "    float: Cosine similarity.\n",
    "    \"\"\"\n",
    "    return np.dot(vec1, vec2) / (np.linalg.norm(vec1) * np.linalg.norm(vec2))\n",
    "#计算相似性\n",
    "similarities = []\n",
    "for i in range(len(embeddings)-1):\n",
    "    similarities.append(cosine_similarity(embeddings[i], embeddings[i+1]))\n"
   ]
  },
  {
   "cell_type": "markdown",
   "metadata": {},
   "source": [
    "# 实现语义分块\n",
    "通过不同的技术来实现语义分块"
   ]
  },
  {
   "cell_type": "code",
   "execution_count": 126,
   "metadata": {},
   "outputs": [
    {
     "name": "stdout",
     "output_type": "stream",
     "text": [
      "断点数量：11\n",
      "断点：[1, 4, 7, 10, 13, 14, 15, 19, 20, 24, 25]\n"
     ]
    }
   ],
   "source": [
    "def compute_breakpoints(similarities, method=\"percentile\", threshold=20):\n",
    "    \"\"\"计算断点\n",
    "\n",
    "    Args:\n",
    "        text (_type_): 文本\n",
    "        method (str, optional): 百分比. Defaults to \"percentile\".\n",
    "        threshold (float, optional): 阈值. Defaults to 90.\n",
    "    \"\"\"\n",
    "    if method == \"percentile\":\n",
    "        # 计算百分位数\n",
    "        threshold_value = np.percentile(similarities, threshold, method=\"linear\")\n",
    "        \n",
    "    elif method == \"interquartile\":\n",
    "        # 计算四分位距\n",
    "        q1, q3 = np.percentile(similarities, [25, 75])\n",
    "        # 计算阈值\n",
    "        threshold_value = q1-1.5*(q3-q1)\n",
    "        \n",
    "    elif method == \"standard_deviation\":\n",
    "        # 计算平均值\n",
    "        mean_similarity = np.mean(similarities)\n",
    "        # 计算标准差\n",
    "        std_deviation = np.std(similarities)\n",
    "        # 计算阈值\n",
    "        threshold_value = mean_similarity - threshold * std_deviation\n",
    "    else:\n",
    "        raise ValueError(f\"不支持的方法：{method}\")\n",
    "    \n",
    "    # 计算断点\n",
    "    breakpoints = [i for i, sim in enumerate(similarities) if sim < threshold_value]\n",
    "    return breakpoints\n",
    "#threshold=20 表示相似度低于20%的句子，作为断点\n",
    "breakpoints = compute_breakpoints(similarities, \n",
    "                                  method=\"percentile\",\n",
    "                                  threshold=40)\n",
    "print(f\"断点数量：{len(breakpoints)}\")\n",
    "print(f\"断点：{breakpoints}\")\n"
   ]
  },
  {
   "cell_type": "markdown",
   "metadata": {},
   "source": [
    "#  根据Breakpoints 分割文本"
   ]
  },
  {
   "cell_type": "code",
   "execution_count": 127,
   "metadata": {},
   "outputs": [
    {
     "name": "stdout",
     "output_type": "stream",
     "text": [
      "start_index：0，bp：1\n",
      "current_chunk：\n",
      "百炼系列平板电脑产品介绍 \n",
      "踏入数字世界的宽广领域，百炼平板电脑系列以其卓越的设计与顶尖技术，为您的工作与娱乐带来前所未有的体验。\n",
      "start_index：1，bp：4\n",
      "current_chunk：\n",
      " \n",
      " \n",
      "百炼Tab Xplorer P1 —— 探索无界视野： 配备12.9 英寸Liquid Retina XDR 显示屏，分辨率达到2732 x 2048 像素，支持ProMotion 自适应刷新率技术（最高\n",
      "120Hz），无论是高清视频还是专业绘图，细腻与流畅并存。搭载1TB 超大存储与16GB RAM，配合M1 芯片的强大性能，轻松驾驭复杂应用与大型游戏。\n",
      "10000mAh 电池确保全天候续航，四扬声器环绕立体声，为您带来影院级视听享受。\n",
      "start_index：4，bp：7\n",
      "current_chunk：\n",
      "参考售价：8999 - 9999。 \n",
      "通义Vivid Tab 7 —— 智能办公新境界： 拥有10.5 英寸2560 x 1600 像素Super AMOLED 显示屏，色彩鲜活，细节丰富。8GB RAM 与256GB 存储空间，结合\n",
      "高效的处理器，确保多任务处理顺滑无阻。\n",
      "start_index：7，bp：10\n",
      "current_chunk：\n",
      "支持S Pen 手写笔，灵感随时记录。7500mAh 电池，配合智能电源管理，满足全天工作需求。内置多重生物识别技\n",
      "术，包括面部识别与指纹解锁，安全便捷。\n",
      "start_index：10，bp：13\n",
      "current_chunk：\n",
      "参考售价：4499 - 4899。 \n",
      "星尘Tab S9 Pro —— 创意与效率的完美融合： 采用12.4 英寸2800 x 1752 像素超窄边框设计，屏下摄像头技术，最大化显示区域。512GB 存储与12GB \n",
      "RAM，搭载高效能处理器，流畅运行各类创作软件。\n",
      "start_index：13，bp：14\n",
      "current_chunk：\n",
      "9000mAh 电池与65W 超级快充，快速回血，创意不中断。\n",
      "start_index：14，bp：15\n",
      "current_chunk：\n",
      "支持外接键盘与触控笔，变身移动工作站。\n",
      "start_index：15，bp：19\n",
      "current_chunk：\n",
      "参考\n",
      "售价：6999 - 7499。 \n",
      "百炼Ace Tab Ultra —— 游戏与娱乐的旗舰选择： 配备11 英寸2560 x 1600 像素屏幕，支持HDR10+，色彩表现力惊人。12GB RAM 与512GB 存储空间，专为\n",
      "高性能游戏优化。7800mAh 电池与液冷散热系统，确保长时间游戏稳定不发热。\n",
      "start_index：19，bp：20\n",
      "current_chunk：\n",
      "四扬声器杜比全景声音效，沉浸式游戏体验。\n",
      "start_index：20，bp：24\n",
      "current_chunk：\n",
      "参考售价：5999 - 6499。 \n",
      "百炼Zephyr Tab Z9 —— 轻盈便携的智慧伴侣： 采用轻薄8.4 英寸2560 x 1600 像素OLED 屏幕，携带方便。6GB RAM 与128GB 存储，满足日常娱乐与学习需\n",
      "求。6000mAh 电池提供持久续航，支持快速充电。\n",
      "start_index：24，bp：25\n",
      "current_chunk：\n",
      "前后双摄，视频会议与在线学习清晰流畅。\n",
      "current_chunk：\n",
      "参考售价：3499 - 3799。 \n",
      " \n",
      "每一款百炼平板电脑都是对极致体验的追求，旨在成为您探索数字世界的理想伙伴。选择百炼，开启您的智能生活新篇章。\n",
      "分割后的文本数量：12\n"
     ]
    }
   ],
   "source": [
    "def split_text_by_breakpoints(sentences, breakpoints):\n",
    "    \"\"\"根据Breakpoints 分割文本\n",
    "    \"\"\"\n",
    "    chunks = []\n",
    "    start_index = 0\n",
    "    current_chunk = \"\"\n",
    "    for bp in breakpoints:\n",
    "        print(f\"start_index：{start_index}，bp：{bp}\")\n",
    "        current_chunk = \"。\".join(sentences[start_index:bp]) + \"。\"\n",
    "        start_index = bp\n",
    "        if len(current_chunk.strip()) == 0:\n",
    "            continue\n",
    "        print(f\"current_chunk：\\n{current_chunk}\")\n",
    "        \n",
    "        chunks.append(current_chunk)\n",
    "        \n",
    "    # 处理最后一个块\n",
    "    if start_index < len(sentences):\n",
    "        current_chunk = \"。\".join(sentences[start_index:len(sentences)])\n",
    "        print(f\"current_chunk：\\n{current_chunk}\")\n",
    "        chunks.append(current_chunk)\n",
    "    return chunks\n",
    "\n",
    "chunks = split_text_by_breakpoints(sentences, breakpoints)\n",
    "print(f\"分割后的文本数量：{len(chunks)}\")\n",
    "\n",
    "\n"
   ]
  },
  {
   "cell_type": "markdown",
   "metadata": {},
   "source": [
    "# 创建语义块的Embedding"
   ]
  },
  {
   "cell_type": "code",
   "execution_count": 128,
   "metadata": {},
   "outputs": [
    {
     "name": "stdout",
     "output_type": "stream",
     "text": [
      "语义块的Embedding数量：12\n",
      "语义块的Embedding：[ 0.00026164 -0.01669292 -0.03890266 ... -0.04353886  0.04677643\n",
      " -0.03214261]\n"
     ]
    }
   ],
   "source": [
    "def create_chunk_embeddings(chunks):\n",
    "    \"\"\"创建语义块的Embedding\n",
    "    \"\"\"\n",
    "    embeddings = []\n",
    "    for chunk in chunks:\n",
    "        embedding = get_embedding(chunk)\n",
    "        embeddings.append(embedding)\n",
    "    return embeddings\n",
    "\n",
    "chunk_embeddings = create_chunk_embeddings(chunks)\n",
    "print(f\"语义块的Embedding数量：{len(chunk_embeddings)}\")\n",
    "print(f\"语义块的Embedding：{chunk_embeddings[0]}\")\n",
    "\n"
   ]
  },
  {
   "cell_type": "markdown",
   "metadata": {},
   "source": [
    "# 创建语义搜索\n",
    "用cosine相似度去，查找语义最近的语块"
   ]
  },
  {
   "cell_type": "code",
   "execution_count": 129,
   "metadata": {},
   "outputs": [
    {
     "name": "stdout",
     "output_type": "stream",
     "text": [
      "语义搜索结果：\n",
      "['参考售价：4499 - 4899。 \\n星尘Tab S9 Pro —— 创意与效率的完美融合： 采用12.4 英寸2800 x 1752 像素超窄边框设计，屏下摄像头技术，最大化显示区域。512GB 存储与12GB \\nRAM，搭载高效能处理器，流畅运行各类创作软件。', '参考售价：8999 - 9999。 \\n通义Vivid Tab 7 —— 智能办公新境界： 拥有10.5 英寸2560 x 1600 像素Super AMOLED 显示屏，色彩鲜活，细节丰富。8GB RAM 与256GB 存储空间，结合\\n高效的处理器，确保多任务处理顺滑无阻。']\n"
     ]
    }
   ],
   "source": [
    "def search_semantic(query, chunk_embeddings, text_chunks, top_k=5):\n",
    "    \"\"\"创建语义搜索\n",
    "    \"\"\"\n",
    "    # 创建查询的Embedding\n",
    "    query_embedding = get_embedding(query)\n",
    "    # 计算相似性\n",
    "    similarities = []\n",
    "    for i, chunk in enumerate(chunk_embeddings):\n",
    "        similarity = cosine_similarity(query_embedding, chunk)\n",
    "        similarities.append((similarity, i))\n",
    "    similarities.sort(key=lambda x: x[0], reverse=True)\n",
    "    top_results = similarities[:top_k]\n",
    "    return [text_chunks[i] for _, i in top_results]\n",
    "\n",
    "# 测试语义搜索\n",
    "query = \"参考售价4000元-5000元\"\n",
    "semantic_chunks = search_semantic(query, chunk_embeddings, chunks, top_k=2)\n",
    "print(f\"语义搜索结果：\\n{semantic_chunks}\")\n",
    "\n"
   ]
  },
  {
   "cell_type": "code",
   "execution_count": 130,
   "metadata": {},
   "outputs": [
    {
     "name": "stdout",
     "output_type": "stream",
     "text": [
      "查询：低于1000元的平板电脑有哪些？\n",
      "Context1：\n",
      "参考售价：3499 - 3799。 \n",
      " \n",
      "每一款百炼平板电脑都是对极致体验的追求，旨在成为您探索数字世界的理想伙伴。选择百炼，开启您的智能生活新篇章。\n",
      "----------------------------------------------------------------------------------------------------\n",
      "Context2：\n",
      "参考售价：4499 - 4899。 \n",
      "星尘Tab S9 Pro —— 创意与效率的完美融合： 采用12.4 英寸2800 x 1752 像素超窄边框设计，屏下摄像头技术，最大化显示区域。512GB 存储与12GB \n",
      "RAM，搭载高效能处理器，流畅运行各类创作软件。\n",
      "----------------------------------------------------------------------------------------------------\n",
      "Context3：\n",
      "参考售价：5999 - 6499。 \n",
      "百炼Zephyr Tab Z9 —— 轻盈便携的智慧伴侣： 采用轻薄8.4 英寸2560 x 1600 像素OLED 屏幕，携带方便。6GB RAM 与128GB 存储，满足日常娱乐与学习需\n",
      "求。6000mAh 电池提供持久续航，支持快速充电。\n",
      "----------------------------------------------------------------------------------------------------\n"
     ]
    }
   ],
   "source": [
    "import random\n",
    "\n",
    "\n",
    "with open(\"data/sample.json\", \"r\") as f:\n",
    "    json_data = json.load(f)\n",
    "index = random.randint(0, len(json_data)-1)\n",
    "query = json_data[index][\"问题\"]\n",
    "top_results = search_semantic(query, chunk_embeddings, chunks, top_k=3)\n",
    "print(f\"查询：{query}\")\n",
    "\n",
    "for i, result in enumerate(top_results):\n",
    "    print(f\"Context{i+1}：\\n{result}\")\n",
    "    print(\"-\"*100)\n"
   ]
  },
  {
   "cell_type": "markdown",
   "metadata": {},
   "source": [
    "# 基于搜索结果生成回复"
   ]
  },
  {
   "cell_type": "code",
   "execution_count": 131,
   "metadata": {},
   "outputs": [
    {
     "name": "stdout",
     "output_type": "stream",
     "text": [
      "回复：没有找到相关信息\n",
      "理想回答：没有找到相关信息\n"
     ]
    }
   ],
   "source": [
    "system_prompt = \"\"\"\n",
    "你是一个专业的销售顾问，擅长根据用户的问题，根据给定的上下文，给出最严格的回答。\n",
    "如果上下文没有提供相关信息，请回答“没有找到相关信息”。\n",
    "\"\"\"\n",
    "def generate_response(system_prompt, user_prompt, model=\"Qwen/Qwen2-7B-Instruct\"):\n",
    "    \"\"\"基于搜索结果生成回复\n",
    "    \"\"\"\n",
    "    # 创建OpenAI Client\n",
    "    response = client.chat.completions.create(\n",
    "        model= model,\n",
    "        messages=[\n",
    "            {\"role\": \"system\", \"content\": system_prompt},\n",
    "            {\"role\": \"user\", \"content\": user_prompt}\n",
    "        ]\n",
    "    )\n",
    "    return response\n",
    "\n",
    "user_prompt = \"\\n\".join([f\"上下文{i+1}：\\n{result}\" for i, result in enumerate(top_results)])\n",
    "user_prompt = f\"\"\"{user_prompt} \\n 问题：{query}\"\"\"\n",
    "response = generate_response(system_prompt, user_prompt)\n",
    "print(f\"回复：{response.choices[0].message.content}\")\n",
    "print(f\"理想回答：{json_data[index]['理想回答']}\")\n"
   ]
  },
  {
   "cell_type": "code",
   "execution_count": 132,
   "metadata": {},
   "outputs": [
    {
     "name": "stdout",
     "output_type": "stream",
     "text": [
      "评估：回答结果：1分\n"
     ]
    }
   ],
   "source": [
    "evaluation_system_prompt = \"\"\"\n",
    "你是一个专业的销售顾问，擅长根据用户的问题，根据给定的上下文，给出最严格的回答。\n",
    "如果销售顾问的回答与”理想回答“完全一致，给出1分， 完全不同，给出0分，部分相同，给出0.5分。\n",
    "\"\"\"\n",
    "\n",
    "evaluation_user_prompt = f\"\"\"\n",
    "问题：{query}\n",
    "理想回答：{json_data[index][\"理想回答\"]}\n",
    "销售顾问的回答：{response.choices[0].message.content}\n",
    "\"\"\"\n",
    "\n",
    "evaluation_response = generate_response(evaluation_system_prompt, evaluation_user_prompt)\n",
    "print(f\"评估：{evaluation_response.choices[0].message.content}\")"
   ]
  }
 ],
 "metadata": {
  "kernelspec": {
   "display_name": "Python 3 (ipykernel)",
   "language": "python",
   "name": "python3"
  },
  "language_info": {
   "codemirror_mode": {
    "name": "ipython",
    "version": 3
   },
   "file_extension": ".py",
   "mimetype": "text/x-python",
   "name": "python",
   "nbconvert_exporter": "python",
   "pygments_lexer": "ipython3",
   "version": "3.11.11"
  }
 },
 "nbformat": 4,
 "nbformat_minor": 2
}
