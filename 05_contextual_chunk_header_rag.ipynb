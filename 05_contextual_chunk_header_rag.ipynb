{
 "cells": [
  {
   "cell_type": "markdown",
   "metadata": {},
   "source": [
    "# 简单 RAG 中的上下文块头 （CCH）"
   ]
  },
  {
   "cell_type": "markdown",
   "metadata": {},
   "source": [
    "检索增强生成 （RAG） 通过在生成响应之前检索相关的外部知识来提高语言模型的事实准确性。但是，标准分块通常会丢失重要的上下文，从而使检索效率降低。\n",
    "\n",
    "上下文块标头 （CCH） 通过在嵌入之前为每个块预置高级上下文（如文档标题或章节标题）来增强 RAG。这可以提高检索质量并防止脱离上下文的响应。\n",
    "\n",
    "### 步骤：\n",
    "1. 数据接入：加载并预处理文本数据。\n",
    "2. 使用上下文标题进行分块：提取章节标题并将其添加到块的前面。\n",
    "3. 嵌入创建：将上下文增强的块转换为数字表示。\n",
    "4. 语义搜索：根据用户查询检索相关块。\n",
    "5. 响应生成：使用语言模型从检索到的文本中生成响应。\n",
    "6. 评估：使用评分系统评估响应准确性。"
   ]
  },
  {
   "cell_type": "code",
   "execution_count": 1,
   "metadata": {},
   "outputs": [],
   "source": [
    "import os\n",
    "import numpy as np\n",
    "import json\n",
    "from openai import OpenAI\n",
    "import fitz\n",
    "from tqdm import tqdm"
   ]
  },
  {
   "cell_type": "code",
   "execution_count": 2,
   "metadata": {},
   "outputs": [],
   "source": [
    "def extract_text_from_pdf(pdf_path):\n",
    "    doc = fitz.open(pdf_path)\n",
    "    text = \"\"\n",
    "    for page in doc:\n",
    "        text += page.get_text()\n",
    "    return text\n",
    "\n",
    "client = OpenAI(\n",
    "    base_url=\"https://api.siliconflow.cn/v1/\",\n",
    "    api_key=os.getenv(\"OPENAI_API_KEY\"))"
   ]
  },
  {
   "cell_type": "markdown",
   "metadata": {},
   "source": [
    "# 根据上下文头来切分块"
   ]
  },
  {
   "cell_type": "code",
   "execution_count": 3,
   "metadata": {},
   "outputs": [],
   "source": [
    "def generate_header_chunks(chunk, model=\"Qwen/Qwen3-8B\"):\n",
    "    system_prompt = \"Generate a concise and informative title for the given text.\"\n",
    "    response = client.chat.completions.create(\n",
    "        model=model,\n",
    "        temperature=0.0,\n",
    "        messages=[\n",
    "            {\"role\": \"system\", \"content\": system_prompt},\n",
    "            {\"role\": \"user\", \"content\": f\"Text: {chunk}\"}\n",
    "        ]\n",
    "    )\n",
    "    return response.choices[0].message.content.strip()\n"
   ]
  }
 ],
 "metadata": {
  "kernelspec": {
   "display_name": "Python 3 (ipykernel)",
   "language": "python",
   "name": "python3"
  },
  "language_info": {
   "codemirror_mode": {
    "name": "ipython",
    "version": 3
   },
   "file_extension": ".py",
   "mimetype": "text/x-python",
   "name": "python",
   "nbconvert_exporter": "python",
   "pygments_lexer": "ipython3",
   "version": "3.11.11"
  }
 },
 "nbformat": 4,
 "nbformat_minor": 2
}
