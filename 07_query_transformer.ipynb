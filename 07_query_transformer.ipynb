{
 "cells": [
  {
   "cell_type": "markdown",
   "id": "5970a5f0",
   "metadata": {},
   "source": [
    "# 增强型 RAG 系统的查询转换\n",
    "\n",
    "此笔记本实施了三种查询转换技术，以增强 RAG 系统中的检索性能，而无需依赖 LangChain 等专用库。通过修改用户查询，我们可以显著提高检索信息的相关性和全面性。\n",
    "\n",
    "## 关键改造技术\n",
    "\n",
    "1. 查询重写：使查询更加具体和详细，以提高搜索精度。\n",
    "2. Step-back Prompting：生成更广泛的查询以检索有用的上下文信息。\n",
    "3. 子查询分解：将复杂的查询分解为更简单的组件，以便全面检索。\n"
   ]
  }
 ],
 "metadata": {
  "language_info": {
   "name": "python"
  }
 },
 "nbformat": 4,
 "nbformat_minor": 5
}
